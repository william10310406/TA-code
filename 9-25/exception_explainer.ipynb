{
  "cells": [
    {
      "cell_type": "markdown",
      "metadata": {},
      "source": [
        "# Python 例外處理教學（Explainer）\n",
        "\n",
        "本筆記僅用來「清楚解釋」例外處理觀念與範式，所有實作程式碼將放在另一份 `exception_code.ipynb`。\n",
        "\n",
        "---\n",
        "\n",
        "## 為什麼不要用 if-else 來處理錯誤？\n",
        "\n",
        "- **可讀性差**：大量巢狀條件會淹沒主要邏輯\n",
        "- **容易遺漏**：不可能事前列出所有錯誤情境\n",
        "- **耦合度高**：正常流程和錯誤處理混在一起\n",
        "\n",
        "改用「例外處理」的好處：\n",
        "- **主要邏輯在前**：先寫想完成的事\n",
        "- **錯誤集中處理**：把異常情況丟給 except\n",
        "- **可擴充**：新增錯誤類型只需補一個 except 區塊\n",
        "\n",
        "---\n",
        "\n",
        "## 基本語法：try / except / finally\n",
        "\n",
        "```python\n",
        "try:\n",
        "    # 主要邏輯（這裡面可能會拋出例外）\n",
        "except SpecificError:\n",
        "    # 處理特定錯誤\n",
        "except Exception:\n",
        "    #（選）最後一道保險，處理未預期錯誤\n",
        "finally:\n",
        "    #（選）無論如何都會執行的清理動作\n",
        "```\n",
        "\n",
        "重點：\n",
        "- 「先做事、出事再說」的心態（EAFP：Easier to Ask Forgiveness than Permission）\n",
        "- 不預先用 if-else 檢查所有條件，改由 Python 在出錯時丟例外\n",
        "\n"
      ]
    },
    {
      "cell_type": "markdown",
      "metadata": {},
      "source": [
        "## 常見例外類型與何時使用\n",
        "\n",
        "### ZeroDivisionError（除零）\n",
        "- 發生時機：任何除法/取餘數運算的除數為 0\n",
        "- 寫法重點：不要事前檢查 b == 0；直接嘗試除法，失敗時捕獲\n",
        "\n",
        "### ValueError（值錯誤）\n",
        "- 發生時機：型別合理但值不合，例如 `int('abc')`\n",
        "- 寫法重點：直接呼叫轉換函數，失敗再 except ValueError\n",
        "\n",
        "### TypeError（型別錯誤）\n",
        "- 發生時機：對不相容的型別做運算/呼叫\n",
        "- 寫法重點：讓 Python 告訴你型別不合，再在 except 中回傳替代方案\n",
        "\n",
        "### IndexError / KeyError（索引/鍵）\n",
        "- 發生時機：序列/字典存取不存在的位置/鍵\n",
        "- 寫法重點：直接存取，失敗時 except 提供預設值\n",
        "\n",
        "### FileNotFoundError / PermissionError（檔案）\n",
        "- 發生時機：檔案不存在或權限不足\n",
        "- 寫法重點：直接 `open()`，在 except 中回覆清楚錯誤訊息與建議動作\n",
        "\n"
      ]
    },
    {
      "cell_type": "markdown",
      "metadata": {},
      "source": [
        "## 設計原則（本課不使用 if/else）\n",
        "\n",
        "本課所有主程式碼採用「EAFP」風格：\n",
        "- 直接執行：先做事\n",
        "- 例外承接：失敗由 except 處理\n",
        "- 回傳一致：成功回傳資料；失敗回傳明確錯誤（例外或錯誤物件）\n",
        "\n",
        "推薦結構：\n",
        "```python\n",
        "def do_something(...):\n",
        "    try:\n",
        "        # 主要邏輯\n",
        "        return result\n",
        "    except KnownError as e:\n",
        "        # 專門處理可預期錯誤（轉成更友善的訊息/例外）\n",
        "        raise DomainError(\"更友善的原因\") from e\n",
        "    except Exception as e:\n",
        "        # 保底：記錄與轉拋\n",
        "        raise\n",
        "```\n",
        "\n"
      ]
    }
  ],
  "metadata": {
    "language_info": {
      "name": "python"
    }
  },
  "nbformat": 4,
  "nbformat_minor": 2
}
