{
  "cells": [
    {
      "cell_type": "markdown",
      "metadata": {},
      "source": [
        "# Flask + HTML + CSS 超新手入門\n",
        "\n",
        "這份筆記是給第一次接觸網頁開發的同學：\n",
        "- 什麼是 HTML？（負責內容）\n",
        "- 什麼是 CSS？（負責樣式）\n",
        "- Flask 怎麼把網址對應到 Python 函式，再回傳 HTML？\n",
        "\n",
        "建議與 `9-25/` 資料夾的程式碼搭配閱讀。\n"
      ]
    },
    {
      "cell_type": "markdown",
      "metadata": {},
      "source": [
        "## 1. HTML：網頁的骨架（內容）\n",
        "\n",
        "HTML 是 HyperText Markup Language。它用「標籤」把內容標記起來，讓瀏覽器知道結構。\n",
        "\n",
        "基本結構：\n",
        "```html\n",
        "<!doctype html>\n",
        "<html>\n",
        "  <head>\n",
        "    <meta charset=\"utf-8\">\n",
        "    <title>我的第一個網頁</title>\n",
        "  </head>\n",
        "  <body>\n",
        "    <h1>主標題</h1>\n",
        "    <p>這是一段文字。</p>\n",
        "    <a href=\"https://example.com\">這是一個連結</a>\n",
        "  </body>\n",
        "</html>\n",
        "```\n",
        "\n",
        "常見標籤：\n",
        "- `<h1>~<h6>`：標題\n",
        "- `<p>`：段落\n",
        "- `<a href=\"...\">`：連結\n",
        "- `<img src=\"...\">`：圖片\n",
        "- `<ul><li>`：列表\n",
        "- `<form>`：表單（配合 `<input>`、`<button>` 等）\n"
      ]
    },
    {
      "cell_type": "markdown",
      "metadata": {},
      "source": [
        "## 2. CSS：讓網頁變漂亮（樣式）\n",
        "\n",
        "CSS 是 Cascading Style Sheets。它控制顏色、字體、間距、排版。\n",
        "\n",
        "示例：\n",
        "```css\n",
        "h1 {\n",
        "  color: blue;\n",
        "}\n",
        ".button {\n",
        "  background: #2b6cb0;\n",
        "  color: white;\n",
        "  padding: 8px 12px;\n",
        "}\n",
        "```\n",
        "\n",
        "如何在 HTML 連結 CSS：\n",
        "```html\n",
        "<link rel=\"stylesheet\" href=\"/static/style.css\">\n",
        "```\n",
        "\n",
        "在 Flask 專案中，靜態檔案（CSS/JS/圖片）放在 `static/` 資料夾。\n"
      ]
    },
    {
      "cell_type": "markdown",
      "metadata": {},
      "source": [
        "## 3. Flask：把網址對應到 Python 函式（路由）\n",
        "\n",
        "在 `app.py`：\n",
        "```python\n",
        "from flask import Flask, render_template\n",
        "app = Flask(__name__)\n",
        "\n",
        "@app.route(\"/\")\n",
        "def index():\n",
        "    return render_template(\"index.html\")\n",
        "```\n",
        "- `@app.route(\"/\")`：當使用者打開 `/`，就執行下面的 `index()` 函式\n",
        "- `render_template(\"index.html\")`：回傳 `templates/index.html` 這個檔案\n",
        "\n",
        "表單到結果頁（POST → redirect → GET）：\n",
        "```python\n",
        "@app.route(\"/form\", methods=[\"GET\", \"POST\"])\n",
        "def form():\n",
        "    if request.method == \"POST\":\n",
        "        return redirect(\"/result\")\n",
        "    return render_template(\"form.html\")\n",
        "```\n"
      ]
    },
    {
      "cell_type": "markdown",
      "metadata": {},
      "source": [
        "## 4. 把一切串起來：你在瀏覽器看到什麼？\n",
        "\n",
        "1. 你輸入網址 `http://127.0.0.1:5000/`\n",
        "2. Flask 找到對應的路由 `/`，執行 `index()`\n",
        "3. `index()` 回傳 `render_template('index.html')`\n",
        "4. Flask 把 `templates/index.html` 這個純 HTML 檔案回傳給瀏覽器\n",
        "5. 瀏覽器下載 `/static/style.css`，幫 HTML 套用樣式\n",
        "6. 你就看到美美的網頁了！\n",
        "\n",
        "小任務：\n",
        "- 修改 `templates/index.html` 的內文\n",
        "- 在 `templates/form.html` 新增一個輸入欄位\n",
        "- 嘗試新增一個路由 `/about` 並建立對應的 HTML 檔案\n",
        "\n",
        "恭喜你完成了第一個 Flask 網站！🎉\n"
      ]
    }
  ],
  "metadata": {
    "language_info": {
      "name": "python"
    }
  },
  "nbformat": 4,
  "nbformat_minor": 2
}
