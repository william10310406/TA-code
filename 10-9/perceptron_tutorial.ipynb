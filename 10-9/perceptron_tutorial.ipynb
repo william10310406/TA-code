{
  "cells": [
    {
      "cell_type": "markdown",
      "metadata": {},
      "source": [
        "# 感知機演算法：從歷史到實作\n",
        "## Perceptron Algorithm: From History to Implementation\n",
        "\n",
        "### 課程目標\n",
        "- 了解感知機的歷史背景和重要性\n",
        "- 理解感知機收斂定理的核心概念\n",
        "- 實作簡單的感知機演算法（無學習率版本）\n",
        "- 體驗機器學習的基礎原理\n",
        "\n",
        "---\n",
        "\n",
        "**適合對象**: 大一學生  \n",
        "**先備知識**: 基礎 Python 程式設計、線性代數概念  \n",
        "**預計時間**: 50 分鐘\n"
      ]
    },
    {
      "cell_type": "markdown",
      "metadata": {},
      "source": [
        "## 第一部分：感知機的歷史故事 📚\n",
        "\n",
        "### 1957年：人工智慧的黎明\n",
        "\n",
        "想像一下，在 1957 年，電腦還是房間大小的巨型機器，人們對於「機器能否思考」這個問題充滿好奇。就在這一年，美國心理學家 **Frank Rosenblatt** 在康乃爾大學提出了一個革命性的想法：**感知機 (Perceptron)**。\n",
        "\n",
        "### 什麼是感知機？\n",
        "\n",
        "感知機是第一個能夠「學習」的人工神經元模型。它模仿了人腦神經元的基本功能：\n",
        "- 接收多個輸入信號\n",
        "- 對信號進行加權處理\n",
        "- 做出二元決策（是/否、正/負）\n",
        "\n",
        "### 歷史意義\n",
        "\n",
        "1. **第一個學習演算法**: 感知機是第一個被證明能夠自動學習的演算法\n",
        "2. **神經網路的起源**: 現代深度學習的理論基礎\n",
        "3. **機器學習的開端**: 開啟了機器學習領域的大門\n",
        "\n",
        "### Rosenblatt 的願景\n",
        "\n",
        "Rosenblatt 相信感知機能夠：\n",
        "- 識別圖像和模式\n",
        "- 學習語言\n",
        "- 甚至發展出創造力\n",
        "\n",
        "雖然當時的技術限制讓這些願景無法實現，但他的想法為今天的 AI 革命奠定了基礎。\n"
      ]
    },
    {
      "cell_type": "markdown",
      "metadata": {},
      "source": [
        "## 第二部分：感知機收斂定理 🎯\n",
        "\n",
        "### 什麼是收斂定理？\n",
        "\n",
        "**感知機收斂定理** 是 Rosenblatt 最重要的理論貢獻。它證明了一個令人驚奇的事實：\n",
        "\n",
        "> **如果資料是線性可分的，感知機演算法保證會在有限步驟內找到正確的分類邊界！**\n",
        "\n",
        "### 定理的核心概念\n",
        "\n",
        "1. **線性可分**: 存在一條直線（或超平面）能完美分開兩類資料\n",
        "2. **錯誤修正**: 每次預測錯誤時，調整權重向正確方向移動\n",
        "3. **有限收斂**: 更新次數是有限的，演算法必定會停止\n",
        "\n",
        "### 為什麼不需要學習率？\n",
        "\n",
        "在 Rosenblatt 的原始版本中，感知機使用最簡單的更新規則：\n",
        "- 預測錯誤時：`w = w + x`（正類）或 `w = w - x`（負類）\n",
        "- 預測正確時：不更新\n",
        "\n",
        "這種「全力修正」的方式雖然看起來粗暴，但數學上可以證明它會收斂！\n",
        "\n",
        "### 幾何直觀\n",
        "\n",
        "想像你在黑暗中尋找一個目標：\n",
        "- 每次撞牆（預測錯誤）時，你就調整方向\n",
        "- 雖然路徑可能曲折，但最終一定會到達目標\n",
        "- 感知機的學習過程就是這樣的「智慧試錯」\n"
      ]
    },
    {
      "cell_type": "code",
      "execution_count": 6,
      "metadata": {},
      "outputs": [
        {
          "name": "stdout",
          "output_type": "stream",
          "text": [
            "📦 正在安裝 NumPy...\n",
            "Collecting numpy\n",
            "  Downloading numpy-2.3.3-cp312-cp312-macosx_14_0_arm64.whl.metadata (62 kB)\n",
            "Downloading numpy-2.3.3-cp312-cp312-macosx_14_0_arm64.whl (5.1 MB)\n",
            "\u001b[2K   \u001b[90m━━━━━━━━━━━━━━━━━━━━━━━━━━━━━━━━━━━━━━━━\u001b[0m \u001b[32m5.1/5.1 MB\u001b[0m \u001b[31m65.7 kB/s\u001b[0m eta \u001b[36m0:00:00\u001b[0ma \u001b[36m0:00:03\u001b[0m\n",
            "\u001b[?25hInstalling collected packages: numpy\n"
          ]
        },
        {
          "name": "stderr",
          "output_type": "stream",
          "text": [
            "\u001b[33m  WARNING: The scripts f2py and numpy-config are installed in '/Library/Frameworks/Python.framework/Versions/3.12/bin' which is not on PATH.\n",
            "  Consider adding this directory to PATH or, if you prefer to suppress this warning, use --no-warn-script-location.\u001b[0m\u001b[33m\n",
            "\u001b[0m"
          ]
        },
        {
          "name": "stdout",
          "output_type": "stream",
          "text": [
            "Successfully installed numpy-2.3.3\n"
          ]
        },
        {
          "name": "stderr",
          "output_type": "stream",
          "text": [
            "\n",
            "\u001b[1m[\u001b[0m\u001b[34;49mnotice\u001b[0m\u001b[1;39;49m]\u001b[0m\u001b[39;49m A new release of pip is available: \u001b[0m\u001b[31;49m24.2\u001b[0m\u001b[39;49m -> \u001b[0m\u001b[32;49m25.2\u001b[0m\n",
            "\u001b[1m[\u001b[0m\u001b[34;49mnotice\u001b[0m\u001b[1;39;49m]\u001b[0m\u001b[39;49m To update, run: \u001b[0m\u001b[32;49mpython3.12 -m pip install --upgrade pip\u001b[0m\n"
          ]
        },
        {
          "name": "stdout",
          "output_type": "stream",
          "text": [
            "✅ numpy 安裝成功\n",
            "✅ NumPy 導入成功\n",
            "📦 正在安裝 Matplotlib...\n",
            "Collecting matplotlib\n",
            "  Downloading matplotlib-3.10.6-cp312-cp312-macosx_11_0_arm64.whl.metadata (11 kB)\n",
            "Collecting contourpy>=1.0.1 (from matplotlib)\n",
            "  Downloading contourpy-1.3.3-cp312-cp312-macosx_11_0_arm64.whl.metadata (5.5 kB)\n",
            "Collecting cycler>=0.10 (from matplotlib)\n",
            "  Downloading cycler-0.12.1-py3-none-any.whl.metadata (3.8 kB)\n",
            "Collecting fonttools>=4.22.0 (from matplotlib)\n",
            "  Downloading fonttools-4.60.1-cp312-cp312-macosx_10_13_universal2.whl.metadata (112 kB)\n",
            "Collecting kiwisolver>=1.3.1 (from matplotlib)\n",
            "  Downloading kiwisolver-1.4.9-cp312-cp312-macosx_11_0_arm64.whl.metadata (6.3 kB)\n",
            "Requirement already satisfied: numpy>=1.23 in /Library/Frameworks/Python.framework/Versions/3.12/lib/python3.12/site-packages (from matplotlib) (2.3.3)\n",
            "Requirement already satisfied: packaging>=20.0 in /Users/jianweiheng/Library/Python/3.12/lib/python/site-packages (from matplotlib) (24.1)\n",
            "Collecting pillow>=8 (from matplotlib)\n",
            "  Downloading pillow-11.3.0-cp312-cp312-macosx_11_0_arm64.whl.metadata (9.0 kB)\n",
            "Collecting pyparsing>=2.3.1 (from matplotlib)\n",
            "  Downloading pyparsing-3.2.5-py3-none-any.whl.metadata (5.0 kB)\n",
            "Requirement already satisfied: python-dateutil>=2.7 in /Users/jianweiheng/Library/Python/3.12/lib/python/site-packages (from matplotlib) (2.9.0.post0)\n",
            "Requirement already satisfied: six>=1.5 in /Users/jianweiheng/Library/Python/3.12/lib/python/site-packages (from python-dateutil>=2.7->matplotlib) (1.16.0)\n",
            "Downloading matplotlib-3.10.6-cp312-cp312-macosx_11_0_arm64.whl (8.1 MB)\n",
            "\u001b[2K   \u001b[90m━━━━━━━━━━━━━━━━━━━━━━━━━━━━━━━━━━━━━━━━\u001b[0m \u001b[32m8.1/8.1 MB\u001b[0m \u001b[31m34.5 MB/s\u001b[0m eta \u001b[36m0:00:00\u001b[0ma \u001b[36m0:00:01\u001b[0m\n",
            "\u001b[?25hDownloading contourpy-1.3.3-cp312-cp312-macosx_11_0_arm64.whl (273 kB)\n",
            "Downloading cycler-0.12.1-py3-none-any.whl (8.3 kB)\n",
            "Downloading fonttools-4.60.1-cp312-cp312-macosx_10_13_universal2.whl (2.8 MB)\n",
            "\u001b[2K   \u001b[90m━━━━━━━━━━━━━━━━━━━━━━━━━━━━━━━━━━━━━━━━\u001b[0m \u001b[32m2.8/2.8 MB\u001b[0m \u001b[31m8.9 MB/s\u001b[0m eta \u001b[36m0:00:00\u001b[0meta \u001b[36m0:00:01\u001b[0m\n",
            "\u001b[?25hDownloading kiwisolver-1.4.9-cp312-cp312-macosx_11_0_arm64.whl (64 kB)\n",
            "Downloading pillow-11.3.0-cp312-cp312-macosx_11_0_arm64.whl (4.7 MB)\n",
            "\u001b[2K   \u001b[90m━━━━━━━━━━━━━━━━━━━━━━━━━━━━━━━━━━━━━━━━\u001b[0m \u001b[32m4.7/4.7 MB\u001b[0m \u001b[31m56.0 MB/s\u001b[0m eta \u001b[36m0:00:00\u001b[0m\n",
            "\u001b[?25hDownloading pyparsing-3.2.5-py3-none-any.whl (113 kB)\n",
            "Installing collected packages: pyparsing, pillow, kiwisolver, fonttools, cycler, contourpy, matplotlib\n"
          ]
        },
        {
          "name": "stderr",
          "output_type": "stream",
          "text": [
            "\u001b[33m  WARNING: The scripts fonttools, pyftmerge, pyftsubset and ttx are installed in '/Library/Frameworks/Python.framework/Versions/3.12/bin' which is not on PATH.\n",
            "  Consider adding this directory to PATH or, if you prefer to suppress this warning, use --no-warn-script-location.\u001b[0m\u001b[33m\n",
            "\u001b[0m"
          ]
        },
        {
          "name": "stdout",
          "output_type": "stream",
          "text": [
            "Successfully installed contourpy-1.3.3 cycler-0.12.1 fonttools-4.60.1 kiwisolver-1.4.9 matplotlib-3.10.6 pillow-11.3.0 pyparsing-3.2.5\n",
            "✅ matplotlib 安裝成功\n"
          ]
        },
        {
          "name": "stderr",
          "output_type": "stream",
          "text": [
            "\n",
            "\u001b[1m[\u001b[0m\u001b[34;49mnotice\u001b[0m\u001b[1;39;49m]\u001b[0m\u001b[39;49m A new release of pip is available: \u001b[0m\u001b[31;49m24.2\u001b[0m\u001b[39;49m -> \u001b[0m\u001b[32;49m25.2\u001b[0m\n",
            "\u001b[1m[\u001b[0m\u001b[34;49mnotice\u001b[0m\u001b[1;39;49m]\u001b[0m\u001b[39;49m To update, run: \u001b[0m\u001b[32;49mpython3.12 -m pip install --upgrade pip\u001b[0m\n"
          ]
        },
        {
          "name": "stdout",
          "output_type": "stream",
          "text": [
            "✅ Matplotlib 導入成功\n",
            "✅ 感知機模組導入成功\n",
            "✅ 中文字體設定完成\n",
            "\n",
            "==================================================\n",
            "🚀 環境設定完成！準備開始感知機實作\n",
            "NumPy 版本: 2.3.3\n",
            "Matplotlib 版本: 3.10.6\n",
            "Python 版本: 3.12.6 (v3.12.6:a4a2d2b0d85, Sep  6 2024, 16:08:03) [Clang 13.0.0 (clang-1300.0.29.30)]\n",
            "Python 執行檔: /usr/local/bin/python3.12\n",
            "當前工作目錄: /Users/jianweiheng/Desktop/TA code/10-9\n",
            "==================================================\n"
          ]
        }
      ],
      "source": [
        "# 🔧 自動環境設定和套件安裝\n",
        "import sys\n",
        "import subprocess\n",
        "\n",
        "def install_package(package_name):\n",
        "    \"\"\"自動安裝缺失的套件\"\"\"\n",
        "    try:\n",
        "        subprocess.check_call([sys.executable, \"-m\", \"pip\", \"install\", package_name])\n",
        "        print(f\"✅ {package_name} 安裝成功\")\n",
        "        return True\n",
        "    except subprocess.CalledProcessError:\n",
        "        print(f\"❌ {package_name} 安裝失敗\")\n",
        "        return False\n",
        "\n",
        "# 檢查並安裝 NumPy\n",
        "try:\n",
        "    import numpy as np\n",
        "    print(\"✅ NumPy 已安裝\")\n",
        "except ImportError:\n",
        "    print(\"📦 正在安裝 NumPy...\")\n",
        "    if install_package(\"numpy\"):\n",
        "        import numpy as np\n",
        "        print(\"✅ NumPy 導入成功\")\n",
        "    else:\n",
        "        raise ImportError(\"無法安裝 NumPy\")\n",
        "\n",
        "# 檢查並安裝 Matplotlib\n",
        "try:\n",
        "    import matplotlib.pyplot as plt\n",
        "    print(\"✅ Matplotlib 已安裝\")\n",
        "except ImportError:\n",
        "    print(\"📦 正在安裝 Matplotlib...\")\n",
        "    if install_package(\"matplotlib\"):\n",
        "        import matplotlib.pyplot as plt\n",
        "        print(\"✅ Matplotlib 導入成功\")\n",
        "    else:\n",
        "        raise ImportError(\"無法安裝 Matplotlib\")\n",
        "\n",
        "# 導入感知機模組\n",
        "try:\n",
        "    from simple_perceptron import SimplePerceptron, create_linearly_separable_data\n",
        "    print(\"✅ 感知機模組導入成功\")\n",
        "except ImportError:\n",
        "    print(\"❌ 感知機模組導入失敗，請確認 simple_perceptron.py 在同一資料夾\")\n",
        "    print(f\"當前工作目錄: {__import__('os').getcwd()}\")\n",
        "    raise\n",
        "\n",
        "# 設定中文字體顯示\n",
        "try:\n",
        "    plt.rcParams['font.sans-serif'] = ['Arial Unicode MS', 'SimHei', 'PingFang TC']\n",
        "    plt.rcParams['axes.unicode_minus'] = False\n",
        "    print(\"✅ 中文字體設定完成\")\n",
        "except:\n",
        "    print(\"⚠️ 中文字體設定可能有問題，但不影響功能\")\n",
        "\n",
        "# 顯示環境資訊\n",
        "print(\"\\n\" + \"=\"*50)\n",
        "print(\"🚀 環境設定完成！準備開始感知機實作\")\n",
        "print(f\"NumPy 版本: {np.__version__}\")\n",
        "print(f\"Matplotlib 版本: {plt.matplotlib.__version__}\")\n",
        "print(f\"Python 版本: {sys.version}\")\n",
        "print(f\"Python 執行檔: {sys.executable}\")\n",
        "print(f\"當前工作目錄: {__import__('os').getcwd()}\")\n",
        "print(\"=\"*50)\n"
      ]
    },
    {
      "cell_type": "markdown",
      "metadata": {},
      "source": [
        "## 第三部分：動手實作感知機 💻\n",
        "\n",
        "### 步驟 1：創建線性可分的資料集\n",
        "\n",
        "首先，我們需要一些資料來訓練感知機。我們會創建一個簡單的 2D 資料集，其中兩類資料可以用一條直線完美分開。\n"
      ]
    },
    {
      "cell_type": "code",
      "execution_count": 7,
      "metadata": {},
      "outputs": [
        {
          "name": "stdout",
          "output_type": "stream",
          "text": [
            "創建訓練資料...\n",
            "資料形狀: (16, 2)\n",
            "特徵矩陣 X 的前 5 個樣本:\n",
            "[[-2.60063869 -2.29169375]\n",
            " [-0.53435123 -2.2257763 ]\n",
            " [ 1.53052561  2.54256004]\n",
            " [-2.60170661 -0.14772182]\n",
            " [ 1.53658231  1.53427025]]\n",
            "\n",
            "標籤 y: [-1. -1.  1. -1.  1. -1. -1. -1.  1.  1.  1.  1.  1. -1. -1.  1.]\n",
            "正類 (+1) 數量: 8\n",
            "負類 (-1) 數量: 8\n"
          ]
        },
        {
          "data": {
            "image/png": "[encoded data removed]",
            "text/plain": [
              "<Figure size 800x600 with 1 Axes>"
            ]
          },
          "metadata": {},
          "output_type": "display_data"
        },
        {
          "name": "stdout",
          "output_type": "stream",
          "text": [
            "\n",
            "✅ 可以看到兩類資料明顯分開，這就是「線性可分」的資料！\n"
          ]
        }
      ],
      "source": [
        "# 創建線性可分的資料集\n",
        "print(\"創建訓練資料...\")\n",
        "X, y = create_linearly_separable_data(n_samples=8, random_state=42)\n",
        "\n",
        "print(f\"資料形狀: {X.shape}\")\n",
        "print(f\"特徵矩陣 X 的前 5 個樣本:\")\n",
        "print(X[:5])\n",
        "print(f\"\\n標籤 y: {y}\")\n",
        "print(f\"正類 (+1) 數量: {np.sum(y == 1)}\")\n",
        "print(f\"負類 (-1) 數量: {np.sum(y == -1)}\")\n",
        "\n",
        "# 視覺化原始資料\n",
        "plt.figure(figsize=(8, 6))\n",
        "positive_mask = y == 1\n",
        "negative_mask = y == -1\n",
        "\n",
        "plt.scatter(X[positive_mask, 0], X[positive_mask, 1], \n",
        "           c='red', marker='o', s=100, label='正類 (+1)', alpha=0.7)\n",
        "plt.scatter(X[negative_mask, 0], X[negative_mask, 1], \n",
        "           c='blue', marker='s', s=100, label='負類 (-1)', alpha=0.7)\n",
        "\n",
        "plt.xlabel('特徵 1 (x₁)')\n",
        "plt.ylabel('特徵 2 (x₂)')\n",
        "plt.title('原始訓練資料')\n",
        "plt.legend()\n",
        "plt.grid(True, alpha=0.3)\n",
        "plt.axis('equal')\n",
        "plt.show()\n",
        "\n",
        "print(\"\\n✅ 可以看到兩類資料明顯分開，這就是「線性可分」的資料！\")\n"
      ]
    },
    {
      "cell_type": "markdown",
      "metadata": {},
      "source": [
        "### 步驟 2：初始化感知機\n",
        "\n",
        "現在我們創建一個感知機實例。注意我們使用閾值 θ = 0，這是最常見的設定。\n"
      ]
    },
    {
      "cell_type": "code",
      "execution_count": 8,
      "metadata": {},
      "outputs": [
        {
          "name": "stdout",
          "output_type": "stream",
          "text": [
            "初始化感知機...\n",
            "閾值 θ = 0.0\n",
            "初始權重: None\n",
            "是否已收斂: False\n",
            "\n",
            "📝 感知機的工作原理:\n",
            "1. 計算 w·x (權重與輸入的內積)\n",
            "2. 如果 w·x > θ，預測為 +1；否則預測為 -1\n",
            "3. 如果預測錯誤，更新權重：\n",
            "   - 真實標籤為 +1：w = w + x\n",
            "   - 真實標籤為 -1：w = w - x\n",
            "4. 重複直到所有預測都正確\n"
          ]
        }
      ],
      "source": [
        "# 初始化感知機\n",
        "print(\"初始化感知機...\")\n",
        "perceptron = SimplePerceptron(threshold=0.0)\n",
        "\n",
        "print(f\"閾值 θ = {perceptron.threshold}\")\n",
        "print(f\"初始權重: {perceptron.weights}\")\n",
        "print(f\"是否已收斂: {perceptron.converged}\")\n",
        "\n",
        "print(\"\\n📝 感知機的工作原理:\")\n",
        "print(\"1. 計算 w·x (權重與輸入的內積)\")\n",
        "print(\"2. 如果 w·x > θ，預測為 +1；否則預測為 -1\")\n",
        "print(\"3. 如果預測錯誤，更新權重：\")\n",
        "print(\"   - 真實標籤為 +1：w = w + x\")\n",
        "print(\"   - 真實標籤為 -1：w = w - x\")\n",
        "print(\"4. 重複直到所有預測都正確\")\n"
      ]
    },
    {
      "cell_type": "markdown",
      "metadata": {},
      "source": [
        "### 步驟 3：訓練感知機\n",
        "\n",
        "現在是最激動人心的時刻！我們要看著感知機如何一步步學會分類。\n"
      ]
    },
    {
      "cell_type": "code",
      "execution_count": 9,
      "metadata": {},
      "outputs": [
        {
          "name": "stdout",
          "output_type": "stream",
          "text": [
            "🚀 開始訓練感知機...\n",
            "==================================================\n",
            "開始訓練感知機...\n",
            "資料點數量: 16, 特徵維度: 2\n",
            "閾值 θ = 0.0\n",
            "--------------------------------------------------\n",
            "Epoch   1: 1 個錯誤, 權重 = [1.53052561 2.54256004]\n",
            "Epoch   2: 0 個錯誤, 權重 = [1.53052561 2.54256004]\n",
            "\n",
            "🎉 感知機已收斂！\n",
            "總更新次數: 1\n",
            "最終權重: [1.53052561 2.54256004]\n",
            "\n",
            "==================================================\n",
            "🎉 恭喜！感知機成功收斂了！\n",
            "\n",
            "📊 訓練摘要:\n",
            "   收斂狀態: ✅ 已收斂\n",
            "   訓練輪數: 2\n",
            "   權重更新次數: 1\n",
            "   最終權重: [1.53052561 2.54256004]\n",
            "   閾值: 0.0\n",
            "\n",
            "🧮 決策邊界方程式:\n",
            "   1.531 × x₁ + 2.543 × x₂ = 0.0\n"
          ]
        }
      ],
      "source": [
        "# 開始訓練！\n",
        "print(\"🚀 開始訓練感知機...\")\n",
        "print(\"=\" * 50)\n",
        "\n",
        "success = perceptron.fit(X, y, max_epochs=50)\n",
        "\n",
        "print(\"\\n\" + \"=\" * 50)\n",
        "if success:\n",
        "    print(\"🎉 恭喜！感知機成功收斂了！\")\n",
        "else:\n",
        "    print(\"⚠️ 達到最大訓練輪數，但可能還未完全收斂\")\n",
        "\n",
        "# 顯示訓練摘要\n",
        "summary = perceptron.get_training_summary()\n",
        "print(f\"\\n📊 訓練摘要:\")\n",
        "print(f\"   收斂狀態: {'✅ 已收斂' if summary['converged'] else '❌ 未收斂'}\")\n",
        "print(f\"   訓練輪數: {summary['n_epochs']}\")\n",
        "print(f\"   權重更新次數: {summary['n_updates']}\")\n",
        "print(f\"   最終權重: {summary['final_weights']}\")\n",
        "print(f\"   閾值: {summary['threshold']}\")\n",
        "\n",
        "print(f\"\\n🧮 決策邊界方程式:\")\n",
        "w1, w2 = summary['final_weights']\n",
        "print(f\"   {w1:.3f} × x₁ + {w2:.3f} × x₂ = {summary['threshold']}\")\n"
      ]
    },
    {
      "cell_type": "markdown",
      "metadata": {},
      "source": [
        "### 步驟 4：視覺化學習結果\n",
        "\n",
        "讓我們看看感知機學到了什麼！\n"
      ]
    },
    {
      "cell_type": "code",
      "execution_count": null,
      "metadata": {},
      "outputs": [
        {
          "data": {
            "image/png": "[encoded data removed]",
            "text/plain": [
              "<Figure size 1000x800 with 1 Axes>"
            ]
          },
          "metadata": {},
          "output_type": "display_data"
        },
        {
          "name": "stdout",
          "output_type": "stream",
          "text": [
            "🔍 測試所有訓練樣本的預測結果:\n",
            "------------------------------------------------------------\n",
            "樣本編號 | 特徵 (x₁, x₂)     | 真實標籤 | 預測標籤 | 正確性\n",
            "------------------------------------------------------------\n"
          ]
        },
        {
          "ename": "ValueError",
          "evalue": "Unknown format code 'd' for object of type 'float'",
          "output_type": "error",
          "traceback": [
            "\u001b[0;31m---------------------------------------------------------------------------\u001b[0m",
            "\u001b[0;31mValueError\u001b[0m                                Traceback (most recent call last)",
            "Cell \u001b[0;32mIn[10], line 17\u001b[0m\n\u001b[1;32m     14\u001b[0m     \u001b[38;5;28;01mif\u001b[39;00m pred \u001b[38;5;241m!=\u001b[39m y[i]:\n\u001b[1;32m     15\u001b[0m         all_correct \u001b[38;5;241m=\u001b[39m \u001b[38;5;28;01mFalse\u001b[39;00m\n\u001b[0;32m---> 17\u001b[0m     \u001b[38;5;28mprint\u001b[39m(\u001b[38;5;124mf\u001b[39m\u001b[38;5;124m\"\u001b[39m\u001b[38;5;124m   \u001b[39m\u001b[38;5;132;01m{\u001b[39;00mi\u001b[38;5;132;01m:\u001b[39;00m\u001b[38;5;124m2d\u001b[39m\u001b[38;5;132;01m}\u001b[39;00m\u001b[38;5;124m    | (\u001b[39m\u001b[38;5;132;01m{\u001b[39;00mX[i,\u001b[38;5;241m0\u001b[39m]\u001b[38;5;132;01m:\u001b[39;00m\u001b[38;5;124m6.2f\u001b[39m\u001b[38;5;132;01m}\u001b[39;00m\u001b[38;5;124m, \u001b[39m\u001b[38;5;132;01m{\u001b[39;00mX[i,\u001b[38;5;241m1\u001b[39m]\u001b[38;5;132;01m:\u001b[39;00m\u001b[38;5;124m6.2f\u001b[39m\u001b[38;5;132;01m}\u001b[39;00m\u001b[38;5;124m) |    \u001b[39m\u001b[38;5;132;43;01m{\u001b[39;49;00m\u001b[43my\u001b[49m\u001b[43m[\u001b[49m\u001b[43mi\u001b[49m\u001b[43m]\u001b[49m\u001b[38;5;132;43;01m:\u001b[39;49;00m\u001b[38;5;124;43m2d\u001b[39;49m\u001b[38;5;132;43;01m}\u001b[39;49;00m\u001b[38;5;124m    |    \u001b[39m\u001b[38;5;132;01m{\u001b[39;00mpred\u001b[38;5;132;01m:\u001b[39;00m\u001b[38;5;124m2d\u001b[39m\u001b[38;5;132;01m}\u001b[39;00m\u001b[38;5;124m    |   \u001b[39m\u001b[38;5;132;01m{\u001b[39;00mcorrect\u001b[38;5;132;01m}\u001b[39;00m\u001b[38;5;124m\"\u001b[39m)\n\u001b[1;32m     19\u001b[0m \u001b[38;5;28mprint\u001b[39m(\u001b[38;5;124m\"\u001b[39m\u001b[38;5;124m-\u001b[39m\u001b[38;5;124m\"\u001b[39m \u001b[38;5;241m*\u001b[39m \u001b[38;5;241m60\u001b[39m)\n\u001b[1;32m     20\u001b[0m \u001b[38;5;28;01mif\u001b[39;00m all_correct:\n",
            "\u001b[0;31mValueError\u001b[0m: Unknown format code 'd' for object of type 'float'"
          ]
        }
      ],
      "source": [
        "# 繪製決策邊界\n",
        "perceptron.plot_decision_boundary(X, y, \"感知機學習結果：決策邊界\")\n",
        "\n",
        "# 測試所有訓練樣本\n",
        "print(\"🔍 測試所有訓練樣本的預測結果:\")\n",
        "print(\"-\" * 60)\n",
        "print(\"樣本編號 | 特徵 (x₁, x₂)     | 真實標籤 | 預測標籤 | 正確性\")\n",
        "print(\"-\" * 60)\n",
        "\n",
        "all_correct = True\n",
        "for i in range(len(X)):\n",
        "    pred = perceptron.predict(X[i])\n",
        "    correct = \"✅\" if pred == y[i] else \"❌\"\n",
        "    if pred != y[i]:\n",
        "        all_correct = False\n",
        "    \n",
        "    print(f\"   {i:2d}    | ({X[i,0]:6.2f}, {X[i,1]:6.2f}) |    {int(y[i]):2d}    |    {pred:2d}    |   {correct}\")\n",
        "\n",
        "print(\"-\" * 60)\n",
        "if all_correct:\n",
        "    print(\"🎉 所有樣本都預測正確！感知機完美學會了分類任務！\")\n",
        "else:\n",
        "    print(\"⚠️ 還有一些樣本預測錯誤，可能需要更多訓練。\")\n"
      ]
    },
    {
      "cell_type": "markdown",
      "metadata": {},
      "source": [
        "## 第四部分：深入理解學習過程 🔍\n",
        "\n",
        "### 觀察權重的變化軌跡\n",
        "\n",
        "讓我們看看感知機在學習過程中權重是如何變化的：\n"
      ]
    },
    {
      "cell_type": "code",
      "execution_count": null,
      "metadata": {},
      "outputs": [],
      "source": [
        "# 分析訓練歷史\n",
        "print(\"📈 權重變化軌跡:\")\n",
        "print(\"=\" * 50)\n",
        "\n",
        "weights_history = []\n",
        "for epoch_data in perceptron.training_history:\n",
        "    epoch = epoch_data['epoch']\n",
        "    n_errors = epoch_data['n_errors']\n",
        "    weights = epoch_data['weights']\n",
        "    weights_history.append(weights.copy())\n",
        "    \n",
        "    print(f\"Epoch {epoch:2d}: {n_errors} 個錯誤, 權重 = [{weights[0]:7.3f}, {weights[1]:7.3f}]\")\n",
        "\n",
        "# 繪製權重變化圖\n",
        "weights_history = np.array(weights_history)\n",
        "plt.figure(figsize=(12, 4))\n",
        "\n",
        "plt.subplot(1, 2, 1)\n",
        "plt.plot(range(1, len(weights_history) + 1), weights_history[:, 0], 'ro-', label='w₁')\n",
        "plt.plot(range(1, len(weights_history) + 1), weights_history[:, 1], 'bo-', label='w₂')\n",
        "plt.xlabel('訓練輪數 (Epoch)')\n",
        "plt.ylabel('權重值')\n",
        "plt.title('權重變化軌跡')\n",
        "plt.legend()\n",
        "plt.grid(True, alpha=0.3)\n",
        "\n",
        "plt.subplot(1, 2, 2)\n",
        "plt.plot(weights_history[:, 0], weights_history[:, 1], 'go-', markersize=8, alpha=0.7)\n",
        "plt.plot(weights_history[0, 0], weights_history[0, 1], 'rs', markersize=12, label='起始點')\n",
        "plt.plot(weights_history[-1, 0], weights_history[-1, 1], 'bs', markersize=12, label='終點')\n",
        "plt.xlabel('w₁')\n",
        "plt.ylabel('w₂')\n",
        "plt.title('權重空間中的學習軌跡')\n",
        "plt.legend()\n",
        "plt.grid(True, alpha=0.3)\n",
        "plt.axis('equal')\n",
        "\n",
        "plt.tight_layout()\n",
        "plt.show()\n",
        "\n",
        "print(f\"\\n🎯 觀察重點:\")\n",
        "print(f\"   • 權重從 [0, 0] 開始\")\n",
        "print(f\"   • 每次錯誤都會調整權重\")\n",
        "print(f\"   • 最終收斂到能正確分類的權重\")\n"
      ]
    },
    {
      "cell_type": "markdown",
      "metadata": {},
      "source": [
        "## 第五部分：實驗與探索 🧪\n",
        "\n",
        "### 實驗 1：嘗試不同的初始資料\n",
        "\n",
        "讓我們看看感知機在不同資料集上的表現：\n"
      ]
    },
    {
      "cell_type": "code",
      "execution_count": 11,
      "metadata": {},
      "outputs": [
        {
          "name": "stdout",
          "output_type": "stream",
          "text": [
            "🧪 實驗：測試不同的資料集\n",
            "==================================================\n",
            "\n",
            "📊 測試隨機種子 10:\n",
            "開始訓練感知機...\n",
            "資料點數量: 12, 特徵維度: 2\n",
            "閾值 θ = 0.0\n",
            "--------------------------------------------------\n",
            "Epoch   1: 1 個錯誤, 權重 = [2.43302619 3.20303737]\n",
            "Epoch   2: 0 個錯誤, 權重 = [2.43302619 3.20303737]\n",
            "\n",
            "🎉 感知機已收斂！\n",
            "總更新次數: 1\n",
            "最終權重: [2.43302619 3.20303737]\n",
            "   結果: ✅ 收斂\n",
            "   訓練輪數: 2\n",
            "   更新次數: 1\n",
            "\n",
            "📊 測試隨機種子 25:\n",
            "開始訓練感知機...\n",
            "資料點數量: 12, 特徵維度: 2\n",
            "閾值 θ = 0.0\n",
            "--------------------------------------------------\n",
            "Epoch   1: 1 個錯誤, 權重 = [1.16041515 1.40881848]\n",
            "Epoch   2: 0 個錯誤, 權重 = [1.16041515 1.40881848]\n",
            "\n",
            "🎉 感知機已收斂！\n",
            "總更新次數: 1\n",
            "最終權重: [1.16041515 1.40881848]\n",
            "   結果: ✅ 收斂\n",
            "   訓練輪數: 2\n",
            "   更新次數: 1\n",
            "\n",
            "📊 測試隨機種子 99:\n",
            "開始訓練感知機...\n",
            "資料點數量: 12, 特徵維度: 2\n",
            "閾值 θ = 0.0\n",
            "--------------------------------------------------\n",
            "Epoch   1: 1 個錯誤, 權重 = [1.85764116 4.05722174]\n",
            "Epoch   2: 0 個錯誤, 權重 = [1.85764116 4.05722174]\n",
            "\n",
            "🎉 感知機已收斂！\n",
            "總更新次數: 1\n",
            "最終權重: [1.85764116 4.05722174]\n",
            "   結果: ✅ 收斂\n",
            "   訓練輪數: 2\n",
            "   更新次數: 1\n",
            "\n",
            "📋 實驗總結:\n",
            "   種子 10: 收斂, 2 輪, 1 次更新\n",
            "   種子 25: 收斂, 2 輪, 1 次更新\n",
            "   種子 99: 收斂, 2 輪, 1 次更新\n",
            "\n",
            "💡 觀察:\n",
            "   • 所有線性可分的資料集都能收斂（符合收斂定理！）\n",
            "   • 不同資料集的收斂速度可能不同\n",
            "   • 這證明了感知機收斂定理的普遍性\n"
          ]
        }
      ],
      "source": [
        "# 實驗：不同隨機種子的資料集\n",
        "print(\"🧪 實驗：測試不同的資料集\")\n",
        "print(\"=\" * 50)\n",
        "\n",
        "seeds = [10, 25, 99]\n",
        "results = []\n",
        "\n",
        "for seed in seeds:\n",
        "    print(f\"\\n📊 測試隨機種子 {seed}:\")\n",
        "    \n",
        "    # 創建新資料集\n",
        "    X_exp, y_exp = create_linearly_separable_data(n_samples=6, random_state=seed)\n",
        "    \n",
        "    # 訓練新感知機\n",
        "    perceptron_exp = SimplePerceptron(threshold=0.0)\n",
        "    success = perceptron_exp.fit(X_exp, y_exp, max_epochs=20)\n",
        "    \n",
        "    summary = perceptron_exp.get_training_summary()\n",
        "    results.append({\n",
        "        'seed': seed,\n",
        "        'converged': summary['converged'],\n",
        "        'epochs': summary['n_epochs'],\n",
        "        'updates': summary['n_updates']\n",
        "    })\n",
        "    \n",
        "    print(f\"   結果: {'✅ 收斂' if summary['converged'] else '❌ 未收斂'}\")\n",
        "    print(f\"   訓練輪數: {summary['n_epochs']}\")\n",
        "    print(f\"   更新次數: {summary['n_updates']}\")\n",
        "\n",
        "print(f\"\\n📋 實驗總結:\")\n",
        "for result in results:\n",
        "    status = \"收斂\" if result['converged'] else \"未收斂\"\n",
        "    print(f\"   種子 {result['seed']:2d}: {status}, {result['epochs']} 輪, {result['updates']} 次更新\")\n",
        "\n",
        "print(f\"\\n💡 觀察:\")\n",
        "print(f\"   • 所有線性可分的資料集都能收斂（符合收斂定理！）\")\n",
        "print(f\"   • 不同資料集的收斂速度可能不同\")\n",
        "print(f\"   • 這證明了感知機收斂定理的普遍性\")\n"
      ]
    },
    {
      "cell_type": "markdown",
      "metadata": {},
      "source": [
        "### 實驗 2：手動創建測試資料\n",
        "\n",
        "現在輪到你了！嘗試創建自己的資料點，看看感知機能否學會分類：\n"
      ]
    },
    {
      "cell_type": "code",
      "execution_count": 12,
      "metadata": {},
      "outputs": [
        {
          "name": "stdout",
          "output_type": "stream",
          "text": [
            "🎯 動手練習時間！\n",
            "請修改下面的資料點，創建你自己的線性可分資料集\n",
            "自定義資料集:\n",
            "正類點: [[3, 3], [4, 2], [2, 4]]\n",
            "負類點: [[-2, -1], [-1, -2], [-3, -3]]\n"
          ]
        },
        {
          "data": {
            "image/png": "[encoded data removed]",
            "text/plain": [
              "<Figure size 800x600 with 1 Axes>"
            ]
          },
          "metadata": {},
          "output_type": "display_data"
        },
        {
          "name": "stdout",
          "output_type": "stream",
          "text": [
            "\n",
            "🚀 在你的資料集上訓練感知機...\n",
            "開始訓練感知機...\n",
            "資料點數量: 6, 特徵維度: 2\n",
            "閾值 θ = 0.0\n",
            "--------------------------------------------------\n",
            "Epoch   1: 1 個錯誤, 權重 = [3. 3.]\n",
            "Epoch   2: 0 個錯誤, 權重 = [3. 3.]\n",
            "\n",
            "🎉 感知機已收斂！\n",
            "總更新次數: 1\n",
            "最終權重: [3. 3.]\n",
            "🎉 太棒了！感知機成功學會了你的資料集！\n"
          ]
        },
        {
          "data": {
            "image/png": "[encoded data removed]",
            "text/plain": [
              "<Figure size 1000x800 with 1 Axes>"
            ]
          },
          "metadata": {},
          "output_type": "display_data"
        }
      ],
      "source": [
        "# 🎯 動手練習：創建你自己的資料集！\n",
        "print(\"🎯 動手練習時間！\")\n",
        "print(\"請修改下面的資料點，創建你自己的線性可分資料集\")\n",
        "\n",
        "# 你可以修改這些資料點的座標\n",
        "# 正類資料點 (標籤 +1)\n",
        "positive_points = np.array([\n",
        "    [3, 3],    # 你可以修改這些座標\n",
        "    [4, 2],\n",
        "    [2, 4]\n",
        "])\n",
        "\n",
        "# 負類資料點 (標籤 -1) \n",
        "negative_points = np.array([\n",
        "    [-2, -1],  # 你可以修改這些座標\n",
        "    [-1, -2],\n",
        "    [-3, -3]\n",
        "])\n",
        "\n",
        "# 組合資料\n",
        "X_custom = np.vstack([positive_points, negative_points])\n",
        "y_custom = np.array([1, 1, 1, -1, -1, -1])\n",
        "\n",
        "print(f\"自定義資料集:\")\n",
        "print(f\"正類點: {positive_points.tolist()}\")\n",
        "print(f\"負類點: {negative_points.tolist()}\")\n",
        "\n",
        "# 視覺化自定義資料\n",
        "plt.figure(figsize=(8, 6))\n",
        "plt.scatter(positive_points[:, 0], positive_points[:, 1], \n",
        "           c='red', marker='o', s=150, label='正類 (+1)', alpha=0.8)\n",
        "plt.scatter(negative_points[:, 0], negative_points[:, 1], \n",
        "           c='blue', marker='s', s=150, label='負類 (-1)', alpha=0.8)\n",
        "\n",
        "plt.xlabel('特徵 1 (x₁)')\n",
        "plt.ylabel('特徵 2 (x₂)')\n",
        "plt.title('你的自定義資料集')\n",
        "plt.legend()\n",
        "plt.grid(True, alpha=0.3)\n",
        "plt.axis('equal')\n",
        "plt.show()\n",
        "\n",
        "# 訓練感知機\n",
        "print(\"\\n🚀 在你的資料集上訓練感知機...\")\n",
        "perceptron_custom = SimplePerceptron(threshold=0.0)\n",
        "success = perceptron_custom.fit(X_custom, y_custom, max_epochs=20)\n",
        "\n",
        "if success:\n",
        "    print(\"🎉 太棒了！感知機成功學會了你的資料集！\")\n",
        "    perceptron_custom.plot_decision_boundary(X_custom, y_custom, \"你的感知機學習結果\")\n",
        "else:\n",
        "    print(\"🤔 感知機沒有完全收斂，可能你的資料不是線性可分的？\")\n",
        "    print(\"💡 提示：試著讓兩類資料點分得更開一些！\")\n"
      ]
    },
    {
      "cell_type": "markdown",
      "metadata": {},
      "source": [
        "## 第六部分：總結與反思 🎓\n",
        "\n",
        "### 我們學到了什麼？\n",
        "\n",
        "通過這個教學，你已經：\n",
        "\n",
        "1. **了解了歷史** 📚\n",
        "   - 感知機是 1957 年 Rosenblatt 提出的第一個學習演算法\n",
        "   - 它開啟了機器學習和神經網路的時代\n",
        "   - 雖然簡單，但奠定了現代 AI 的基礎\n",
        "\n",
        "2. **理解了理論** 🧮\n",
        "   - 感知機收斂定理保證了線性可分資料的收斂性\n",
        "   - 不需要學習率，簡單的錯誤修正就能工作\n",
        "   - 幾何直觀：在高維空間中尋找分離超平面\n",
        "\n",
        "3. **掌握了實作** 💻\n",
        "   - 實作了完整的感知機演算法\n",
        "   - 觀察了學習過程和權重變化\n",
        "   - 進行了實驗和探索\n",
        "\n",
        "### 感知機的局限性\n",
        "\n",
        "雖然感知機很重要，但它也有局限：\n",
        "\n",
        "- **只能處理線性可分的資料**：如果資料不能用直線分開，感知機就無法收斂\n",
        "- **只能做二元分類**：無法直接處理多類別問題\n",
        "- **對雜訊敏感**：一個錯誤標記的資料點可能導致無法收斂\n",
        "\n",
        "### 現代發展\n",
        "\n",
        "感知機的思想發展成了：\n",
        "- **多層感知機 (MLP)**：多個感知機層疊，能處理非線性問題\n",
        "- **深度學習**：更深的網路，能學習複雜的模式\n",
        "- **各種神經網路架構**：CNN、RNN、Transformer 等\n",
        "\n",
        "### 思考問題 🤔\n",
        "\n",
        "1. 如果資料不是線性可分的，你會怎麼處理？\n",
        "2. 為什麼現代深度學習需要學習率，而感知機不需要？\n",
        "3. 感知機收斂定理對現代機器學習有什麼啟發？\n",
        "\n",
        "### 延伸學習 📖\n",
        "\n",
        "- 嘗試實作多層感知機\n",
        "- 學習其他分類演算法（SVM、邏輯回歸等）\n",
        "- 探索深度學習框架（PyTorch、TensorFlow）\n",
        "- 閱讀 Rosenblatt 的原始論文\n",
        "\n",
        "---\n",
        "\n",
        "**恭喜你完成了感知機的學習之旅！** 🎉\n",
        "\n",
        "你已經掌握了機器學習歷史上最重要的演算法之一。這個簡單而優雅的演算法，為整個人工智慧領域奠定了基礎。現在你可以自豪地說：「我理解了機器學習的起源！」\n"
      ]
    },
    {
      "cell_type": "markdown",
      "metadata": {},
      "source": []
    }
  ],
  "metadata": {
    "kernelspec": {
      "display_name": "Python 3",
      "language": "python",
      "name": "python3"
    },
    "language_info": {
      "codemirror_mode": {
        "name": "ipython",
        "version": 3
      },
      "file_extension": ".py",
      "mimetype": "text/x-python",
      "name": "python",
      "nbconvert_exporter": "python",
      "pygments_lexer": "ipython3",
      "version": "3.12.6"
    }
  },
  "nbformat": 4,
  "nbformat_minor": 2
}
