{
 "cells": [
  {
   "cell_type": "markdown",
   "id": "f3615eb5",
   "metadata": {},
   "source": [
    "\n",
    "## Step 1. 最簡單的 function（沒有參數）\n",
    "\n",
    "在程式裡，我們常常要「重複做一件事」。  \n",
    "**Function（函數）** 就是一個小工具箱，把一個功能包起來，以後要用的時候直接呼叫。\n",
    "\n",
    "- `def`：代表「我要定義一個 function」  \n",
    "- `say_hello`：function 的名字，就像幫工具取名字  \n",
    "- `return`：function 的結果（輸出）  \n",
    "- `print()`：把結果顯示出來  \n"
   ]
  },
  {
   "cell_type": "code",
   "execution_count": null,
   "id": "270b6153",
   "metadata": {},
   "outputs": [],
   "source": [
    "def say_hello():\n",
    "    return \"Hello!\"\n",
    "\n",
    "print(say_hello())  # 輸出：Hello!"
   ]
  },
  {
   "cell_type": "markdown",
   "id": "b3c43206",
   "metadata": {},
   "source": [
    "\n",
    "## Step 2. 帶參數的 function\n",
    "\n",
    "有時候我們希望 function 不只會做一件死板的事，而是能根據我們給的資料改變。  \n",
    "這時候就要用「參數」。  \n",
    "參數就像工具箱的「輸入口」，你給它什麼，它就會做出相對應的結果。  \n"
   ]
  },
  {
   "cell_type": "code",
   "execution_count": null,
   "id": "5a04f472",
   "metadata": {},
   "outputs": [],
   "source": [
    "def greet(name):\n",
    "    return f\"Hello {name}!\"\n",
    "\n",
    "print(greet(\"Alice\"))  # 輸出：Hello Alice!\n",
    "print(greet(\"Bob\"))    # 輸出：Hello Bob!"
   ]
  },
  {
   "cell_type": "markdown",
   "id": "aa1e35b4",
   "metadata": {},
   "source": [
    "\n",
    "## Step 3. 帶多個參數\n",
    "\n",
    "一個 function 也可以有很多個輸入口。  \n",
    "像計算機需要輸入兩個數字才能相加。  \n"
   ]
  },
  {
   "cell_type": "code",
   "execution_count": null,
   "id": "43aefca7",
   "metadata": {},
   "outputs": [],
   "source": [
    "def add(a, b):\n",
    "    return a + b\n",
    "\n",
    "print(add(3, 5))   # 8\n",
    "print(add(10, 7))  # 17"
   ]
  },
  {
   "cell_type": "markdown",
   "id": "517f4557",
   "metadata": {},
   "source": [
    "\n",
    "## Step 4. function 裡面有邏輯判斷\n",
    "\n",
    "除了單純計算，function 裡還可以有「選擇」。  \n",
    "我們用 `if` 判斷「如果…就…，否則就…」。  \n"
   ]
  },
  {
   "cell_type": "code",
   "execution_count": null,
   "id": "4bf3f583",
   "metadata": {},
   "outputs": [],
   "source": [
    "def is_even(n):\n",
    "    if n % 2 == 0:\n",
    "        return \"Even\"\n",
    "    else:\n",
    "        return \"Odd\"\n",
    "\n",
    "print(is_even(4))  # Even\n",
    "print(is_even(7))  # Odd"
   ]
  },
  {
   "cell_type": "markdown",
   "id": "9dbc3855",
   "metadata": {},
   "source": [
    "\n",
    "## Step 5. 回傳複雜一點的結果\n",
    "\n",
    "我們也可以在 function 裡面組合很多資料，像是文字加數字。  \n"
   ]
  },
  {
   "cell_type": "code",
   "execution_count": null,
   "id": "124cdf30",
   "metadata": {},
   "outputs": [],
   "source": [
    "def describe_person(name, age):\n",
    "    return f\"{name} is {age} years old.\"\n",
    "\n",
    "print(describe_person(\"Alice\", 20))  # Alice is 20 years old.\n",
    "print(describe_person(\"Bob\", 25))    # Bob is 25 years old."
   ]
  },
  {
   "cell_type": "markdown",
   "id": "2485e2d9",
   "metadata": {},
   "source": [
    "\n",
    "## Step 6. function 呼叫另一個 function\n",
    "\n",
    "最後一個進階技巧是：一個 function 可以呼叫另一個 function，  \n",
    "就像工具箱裡的工具也可以互相合作。  \n"
   ]
  },
  {
   "cell_type": "code",
   "execution_count": null,
   "id": "bae27e83",
   "metadata": {},
   "outputs": [],
   "source": [
    "def square(x):\n",
    "    return x * x\n",
    "\n",
    "def sum_of_squares(a, b):\n",
    "    return square(a) + square(b)\n",
    "\n",
    "print(sum_of_squares(2, 3))  # 13"
   ]
  }
 ],
 "metadata": {},
 "nbformat": 4,
 "nbformat_minor": 5
}
